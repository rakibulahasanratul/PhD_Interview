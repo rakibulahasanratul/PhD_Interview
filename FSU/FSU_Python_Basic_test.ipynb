{
  "nbformat": 4,
  "nbformat_minor": 0,
  "metadata": {
    "colab": {
      "provenance": []
    },
    "kernelspec": {
      "name": "python3",
      "display_name": "Python 3"
    },
    "language_info": {
      "name": "python"
    }
  },
  "cells": [
    {
      "cell_type": "code",
      "execution_count": null,
      "metadata": {
        "colab": {
          "base_uri": "https://localhost:8080/"
        },
        "id": "o8bWTzzmgS3W",
        "outputId": "168f12ee-79b0-4c7d-8ab3-14fb10612ce2"
      },
      "outputs": [
        {
          "output_type": "stream",
          "name": "stdout",
          "text": [
            "2\n",
            "4\n",
            "6\n",
            "8\n",
            "10\n",
            "12\n",
            "14\n"
          ]
        }
      ],
      "source": [
        "for i in range(1,15):\n",
        "  if i%2==0:\n",
        "    print(i)"
      ]
    },
    {
      "cell_type": "code",
      "source": [
        "i=2\n",
        "while i<15:\n",
        "  print(i)\n",
        "  i+=2\n"
      ],
      "metadata": {
        "colab": {
          "base_uri": "https://localhost:8080/"
        },
        "id": "P0PBtzQOroUo",
        "outputId": "ad5a93d3-a19f-45cb-fe80-cc991f8f7f20"
      },
      "execution_count": null,
      "outputs": [
        {
          "output_type": "stream",
          "name": "stdout",
          "text": [
            "2\n",
            "4\n",
            "6\n",
            "8\n",
            "10\n",
            "12\n",
            "14\n"
          ]
        }
      ]
    },
    {
      "cell_type": "code",
      "source": [
        "def number(A):\n",
        "  return A%2==0\n",
        "\n",
        "\n",
        "number(20)\n",
        "\n"
      ],
      "metadata": {
        "colab": {
          "base_uri": "https://localhost:8080/"
        },
        "id": "mzStAIcqtQ-i",
        "outputId": "6a23c21b-e2be-451d-a981-71f6882b4e5e"
      },
      "execution_count": null,
      "outputs": [
        {
          "output_type": "execute_result",
          "data": {
            "text/plain": [
              "True"
            ]
          },
          "metadata": {},
          "execution_count": 42
        }
      ]
    }
  ]
}